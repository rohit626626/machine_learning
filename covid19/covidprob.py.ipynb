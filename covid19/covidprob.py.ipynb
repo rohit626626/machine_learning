{
 "metadata": {
  "language_info": {
   "codemirror_mode": {
    "name": "ipython",
    "version": 3
   },
   "file_extension": ".py",
   "mimetype": "text/x-python",
   "name": "python",
   "nbconvert_exporter": "python",
   "pygments_lexer": "ipython3",
   "version": "3.8.0-final"
  },
  "orig_nbformat": 2,
  "kernelspec": {
   "name": "python_defaultSpec_1599698524061",
   "display_name": "Python 3.8.0 32-bit"
  }
 },
 "nbformat": 4,
 "nbformat_minor": 2,
 "cells": [
  {
   "cell_type": "code",
   "execution_count": 18,
   "metadata": {
    "tags": []
   },
   "outputs": [
    {
     "output_type": "execute_result",
     "data": {
      "text/plain": "             fever     bodyPain          age    runnyNose   diffBreath  \\\ncount  2575.000000  2575.000000  2575.000000  2575.000000  2575.000000   \nmean     99.959546     0.493981    51.331650     0.507184    -0.012816   \nstd       1.145053     0.500061    28.830243     0.500045     0.814252   \nmin      98.001088     0.000000     1.000000     0.000000    -1.000000   \n25%      98.931570     0.000000    27.000000     0.000000    -1.000000   \n50%      99.998851     0.000000    52.000000     1.000000     0.000000   \n75%     100.908279     1.000000    75.000000     1.000000     1.000000   \nmax     101.999685     1.000000   100.000000     1.000000     1.000000   \n\n       infectionProb  \ncount    2575.000000  \nmean        0.498641  \nstd         0.500095  \nmin         0.000000  \n25%         0.000000  \n50%         0.000000  \n75%         1.000000  \nmax         1.000000  ",
      "text/html": "<div>\n<style scoped>\n    .dataframe tbody tr th:only-of-type {\n        vertical-align: middle;\n    }\n\n    .dataframe tbody tr th {\n        vertical-align: top;\n    }\n\n    .dataframe thead th {\n        text-align: right;\n    }\n</style>\n<table border=\"1\" class=\"dataframe\">\n  <thead>\n    <tr style=\"text-align: right;\">\n      <th></th>\n      <th>fever</th>\n      <th>bodyPain</th>\n      <th>age</th>\n      <th>runnyNose</th>\n      <th>diffBreath</th>\n      <th>infectionProb</th>\n    </tr>\n  </thead>\n  <tbody>\n    <tr>\n      <th>count</th>\n      <td>2575.000000</td>\n      <td>2575.000000</td>\n      <td>2575.000000</td>\n      <td>2575.000000</td>\n      <td>2575.000000</td>\n      <td>2575.000000</td>\n    </tr>\n    <tr>\n      <th>mean</th>\n      <td>99.959546</td>\n      <td>0.493981</td>\n      <td>51.331650</td>\n      <td>0.507184</td>\n      <td>-0.012816</td>\n      <td>0.498641</td>\n    </tr>\n    <tr>\n      <th>std</th>\n      <td>1.145053</td>\n      <td>0.500061</td>\n      <td>28.830243</td>\n      <td>0.500045</td>\n      <td>0.814252</td>\n      <td>0.500095</td>\n    </tr>\n    <tr>\n      <th>min</th>\n      <td>98.001088</td>\n      <td>0.000000</td>\n      <td>1.000000</td>\n      <td>0.000000</td>\n      <td>-1.000000</td>\n      <td>0.000000</td>\n    </tr>\n    <tr>\n      <th>25%</th>\n      <td>98.931570</td>\n      <td>0.000000</td>\n      <td>27.000000</td>\n      <td>0.000000</td>\n      <td>-1.000000</td>\n      <td>0.000000</td>\n    </tr>\n    <tr>\n      <th>50%</th>\n      <td>99.998851</td>\n      <td>0.000000</td>\n      <td>52.000000</td>\n      <td>1.000000</td>\n      <td>0.000000</td>\n      <td>0.000000</td>\n    </tr>\n    <tr>\n      <th>75%</th>\n      <td>100.908279</td>\n      <td>1.000000</td>\n      <td>75.000000</td>\n      <td>1.000000</td>\n      <td>1.000000</td>\n      <td>1.000000</td>\n    </tr>\n    <tr>\n      <th>max</th>\n      <td>101.999685</td>\n      <td>1.000000</td>\n      <td>100.000000</td>\n      <td>1.000000</td>\n      <td>1.000000</td>\n      <td>1.000000</td>\n    </tr>\n  </tbody>\n</table>\n</div>"
     },
     "metadata": {},
     "execution_count": 18
    }
   ],
   "source": [
    "# Reading data\n",
    "import pandas as pd\n",
    "df=pd.read_csv('data.csv')\n",
    "# df.head()\n",
    "# df.tail()\n",
    "# df.info()\n",
    "# df['diffBreath'].value_counts()\n",
    "df.describe()\n"
   ]
  },
  {
   "cell_type": "code",
   "execution_count": 19,
   "metadata": {},
   "outputs": [],
   "source": [
    "# Train Test Splitting\n",
    "import numpy as np\n",
    "def data_spllit(data, ratio):\n",
    "    np.random.seed(42)\n",
    "    shuffled=np.random.permutation(len(data))\n",
    "    test_set_size=int(len(data)*ratio)\n",
    "    test_indices=shuffled[:test_set_size]\n",
    "    train_indices=shuffled[test_set_size:]\n",
    "    return data.iloc[train_indices], data.iloc[test_indices]\n",
    "train, test=data_spllit(df, 0.2)\n"
   ]
  },
  {
   "cell_type": "code",
   "execution_count": 20,
   "metadata": {},
   "outputs": [
    {
     "output_type": "execute_result",
     "data": {
      "text/plain": "           fever  bodyPain  age  runnyNose  diffBreath  infectionProb\n1703  100.179208         1   59          1           0              0\n1675   99.110046         1   61          0           1              1\n1518  101.222506         0   56          1           0              1\n361   100.312764         1   52          1           1              1\n1544  101.049274         1   65          0          -1              0\n...          ...       ...  ...        ...         ...            ...\n1638  100.685040         1   56          1           1              0\n1095  100.137267         0   43          1          -1              1\n1130  100.211485         0   93          1           0              1\n1294   98.983823         1   13          1          -1              0\n860    98.659726         0   95          0          -1              0\n\n[2060 rows x 6 columns]",
      "text/html": "<div>\n<style scoped>\n    .dataframe tbody tr th:only-of-type {\n        vertical-align: middle;\n    }\n\n    .dataframe tbody tr th {\n        vertical-align: top;\n    }\n\n    .dataframe thead th {\n        text-align: right;\n    }\n</style>\n<table border=\"1\" class=\"dataframe\">\n  <thead>\n    <tr style=\"text-align: right;\">\n      <th></th>\n      <th>fever</th>\n      <th>bodyPain</th>\n      <th>age</th>\n      <th>runnyNose</th>\n      <th>diffBreath</th>\n      <th>infectionProb</th>\n    </tr>\n  </thead>\n  <tbody>\n    <tr>\n      <th>1703</th>\n      <td>100.179208</td>\n      <td>1</td>\n      <td>59</td>\n      <td>1</td>\n      <td>0</td>\n      <td>0</td>\n    </tr>\n    <tr>\n      <th>1675</th>\n      <td>99.110046</td>\n      <td>1</td>\n      <td>61</td>\n      <td>0</td>\n      <td>1</td>\n      <td>1</td>\n    </tr>\n    <tr>\n      <th>1518</th>\n      <td>101.222506</td>\n      <td>0</td>\n      <td>56</td>\n      <td>1</td>\n      <td>0</td>\n      <td>1</td>\n    </tr>\n    <tr>\n      <th>361</th>\n      <td>100.312764</td>\n      <td>1</td>\n      <td>52</td>\n      <td>1</td>\n      <td>1</td>\n      <td>1</td>\n    </tr>\n    <tr>\n      <th>1544</th>\n      <td>101.049274</td>\n      <td>1</td>\n      <td>65</td>\n      <td>0</td>\n      <td>-1</td>\n      <td>0</td>\n    </tr>\n    <tr>\n      <th>...</th>\n      <td>...</td>\n      <td>...</td>\n      <td>...</td>\n      <td>...</td>\n      <td>...</td>\n      <td>...</td>\n    </tr>\n    <tr>\n      <th>1638</th>\n      <td>100.685040</td>\n      <td>1</td>\n      <td>56</td>\n      <td>1</td>\n      <td>1</td>\n      <td>0</td>\n    </tr>\n    <tr>\n      <th>1095</th>\n      <td>100.137267</td>\n      <td>0</td>\n      <td>43</td>\n      <td>1</td>\n      <td>-1</td>\n      <td>1</td>\n    </tr>\n    <tr>\n      <th>1130</th>\n      <td>100.211485</td>\n      <td>0</td>\n      <td>93</td>\n      <td>1</td>\n      <td>0</td>\n      <td>1</td>\n    </tr>\n    <tr>\n      <th>1294</th>\n      <td>98.983823</td>\n      <td>1</td>\n      <td>13</td>\n      <td>1</td>\n      <td>-1</td>\n      <td>0</td>\n    </tr>\n    <tr>\n      <th>860</th>\n      <td>98.659726</td>\n      <td>0</td>\n      <td>95</td>\n      <td>0</td>\n      <td>-1</td>\n      <td>0</td>\n    </tr>\n  </tbody>\n</table>\n<p>2060 rows × 6 columns</p>\n</div>"
     },
     "metadata": {},
     "execution_count": 20
    }
   ],
   "source": [
    "# Check train and test data\n",
    "train\n",
    "# test\n"
   ]
  },
  {
   "cell_type": "code",
   "execution_count": 21,
   "metadata": {},
   "outputs": [
    {
     "output_type": "execute_result",
     "data": {
      "text/plain": "array([0, 1, 1, ..., 1, 0, 0], dtype=int64)"
     },
     "metadata": {},
     "execution_count": 21
    }
   ],
   "source": [
    "# Conver data to numpy array\n",
    "x_train=train[['fever', 'bodyPain', 'age', 'runnyNose', 'diffBreath']].to_numpy()\n",
    "x_test=test[['fever', 'bodyPain','age',  'runnyNose', 'diffBreath']].to_numpy()\n",
    "\n",
    "y_train=train[['infectionProb']].to_numpy().reshape(2060,)\n",
    "y_test=test[['infectionProb']].to_numpy().reshape(515,)\n",
    "\n",
    "y_train"
   ]
  },
  {
   "cell_type": "code",
   "execution_count": 22,
   "metadata": {},
   "outputs": [
    {
     "output_type": "execute_result",
     "data": {
      "text/plain": "LogisticRegression()"
     },
     "metadata": {},
     "execution_count": 22
    }
   ],
   "source": [
    "# Testing model\n",
    "from sklearn.linear_model import LogisticRegression\n",
    "clf=LogisticRegression()\n",
    "clf.fit(x_train, y_train)"
   ]
  },
  {
   "cell_type": "code",
   "execution_count": 23,
   "metadata": {},
   "outputs": [
    {
     "output_type": "execute_result",
     "data": {
      "text/plain": "0.500189410419943"
     },
     "metadata": {},
     "execution_count": 23
    }
   ],
   "source": [
    "# Checking Probilty\n",
    "inputFeatures=[101, 1, 22, -1, 1]\n",
    "infProb=clf.predict_proba([inputFeatures])[0][1]\n",
    "infProb\n"
   ]
  },
  {
   "cell_type": "code",
   "execution_count": null,
   "metadata": {},
   "outputs": [],
   "source": []
  }
 ]
}